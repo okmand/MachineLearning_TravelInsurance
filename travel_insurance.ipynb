{
 "cells": [
  {
   "cell_type": "markdown",
   "id": "ca9fbdbf",
   "metadata": {},
   "source": [
    "# Travel Insurance"
   ]
  },
  {
   "cell_type": "markdown",
   "id": "7c7d4340",
   "metadata": {},
   "source": [
    "## 0. Описание\n",
    "\n",
    "Суть датасета:\n",
    "\n",
    "Туристическому страховому агенству необходимо принимать решения о выплате или невыплате страховой компенсации застрахованному лицу. Принять это решение могут помочь методы машинного обучения. Дана таблица, в которой описаны 63326 случаев страхования туристов агенством из Сингапура. В столбцах датасета представлена следующая информация о страховых случаях:\n",
    "\n",
    "1. название агенства\n",
    "2. тип агенства\n",
    "3. способ поставки полиса туристического страхования\n",
    "4. название полиса\n",
    "5. чистая прибыль после продаж полисов\n",
    "6. продолжительность страхования\n",
    "7. место путешествия\n",
    "8. статус выплаты (совершена или нет)\n",
    "9. комиссия, полученная агентством по страхованию путешествий\n",
    "10. пол застрахованного лица\n",
    "11. возраст застрахованного лица"
   ]
  },
  {
   "cell_type": "code",
   "execution_count": 1,
   "id": "83109fa0",
   "metadata": {},
   "outputs": [],
   "source": [
    "import pandas as pd\n",
    "import numpy as np\n",
    "import seaborn as sns\n",
    "from matplotlib import pyplot as plt\n",
    "%matplotlib inline"
   ]
  },
  {
   "cell_type": "markdown",
   "id": "a52770f9",
   "metadata": {},
   "source": [
    "## 1. Чтение данных\n"
   ]
  },
  {
   "cell_type": "code",
   "execution_count": 2,
   "id": "3ef7a8fc",
   "metadata": {
    "scrolled": true
   },
   "outputs": [
    {
     "data": {
      "text/html": [
       "<div>\n",
       "<style scoped>\n",
       "    .dataframe tbody tr th:only-of-type {\n",
       "        vertical-align: middle;\n",
       "    }\n",
       "\n",
       "    .dataframe tbody tr th {\n",
       "        vertical-align: top;\n",
       "    }\n",
       "\n",
       "    .dataframe thead th {\n",
       "        text-align: right;\n",
       "    }\n",
       "</style>\n",
       "<table border=\"1\" class=\"dataframe\">\n",
       "  <thead>\n",
       "    <tr style=\"text-align: right;\">\n",
       "      <th></th>\n",
       "      <th>Agency</th>\n",
       "      <th>Agency Type</th>\n",
       "      <th>Distribution Channel</th>\n",
       "      <th>Product Name</th>\n",
       "      <th>Claim</th>\n",
       "      <th>Duration</th>\n",
       "      <th>Destination</th>\n",
       "      <th>Net Sales</th>\n",
       "      <th>Commision (in value)</th>\n",
       "      <th>Gender</th>\n",
       "      <th>Age</th>\n",
       "    </tr>\n",
       "  </thead>\n",
       "  <tbody>\n",
       "    <tr>\n",
       "      <th>0</th>\n",
       "      <td>CBH</td>\n",
       "      <td>Travel Agency</td>\n",
       "      <td>Offline</td>\n",
       "      <td>Comprehensive Plan</td>\n",
       "      <td>No</td>\n",
       "      <td>186</td>\n",
       "      <td>MALAYSIA</td>\n",
       "      <td>-29.0</td>\n",
       "      <td>9.57</td>\n",
       "      <td>F</td>\n",
       "      <td>81</td>\n",
       "    </tr>\n",
       "    <tr>\n",
       "      <th>1</th>\n",
       "      <td>CBH</td>\n",
       "      <td>Travel Agency</td>\n",
       "      <td>Offline</td>\n",
       "      <td>Comprehensive Plan</td>\n",
       "      <td>No</td>\n",
       "      <td>186</td>\n",
       "      <td>MALAYSIA</td>\n",
       "      <td>-29.0</td>\n",
       "      <td>9.57</td>\n",
       "      <td>F</td>\n",
       "      <td>71</td>\n",
       "    </tr>\n",
       "    <tr>\n",
       "      <th>2</th>\n",
       "      <td>CWT</td>\n",
       "      <td>Travel Agency</td>\n",
       "      <td>Online</td>\n",
       "      <td>Rental Vehicle Excess Insurance</td>\n",
       "      <td>No</td>\n",
       "      <td>65</td>\n",
       "      <td>AUSTRALIA</td>\n",
       "      <td>-49.5</td>\n",
       "      <td>29.70</td>\n",
       "      <td>NaN</td>\n",
       "      <td>32</td>\n",
       "    </tr>\n",
       "    <tr>\n",
       "      <th>3</th>\n",
       "      <td>CWT</td>\n",
       "      <td>Travel Agency</td>\n",
       "      <td>Online</td>\n",
       "      <td>Rental Vehicle Excess Insurance</td>\n",
       "      <td>No</td>\n",
       "      <td>60</td>\n",
       "      <td>AUSTRALIA</td>\n",
       "      <td>-39.6</td>\n",
       "      <td>23.76</td>\n",
       "      <td>NaN</td>\n",
       "      <td>32</td>\n",
       "    </tr>\n",
       "    <tr>\n",
       "      <th>4</th>\n",
       "      <td>CWT</td>\n",
       "      <td>Travel Agency</td>\n",
       "      <td>Online</td>\n",
       "      <td>Rental Vehicle Excess Insurance</td>\n",
       "      <td>No</td>\n",
       "      <td>79</td>\n",
       "      <td>ITALY</td>\n",
       "      <td>-19.8</td>\n",
       "      <td>11.88</td>\n",
       "      <td>NaN</td>\n",
       "      <td>41</td>\n",
       "    </tr>\n",
       "    <tr>\n",
       "      <th>5</th>\n",
       "      <td>JZI</td>\n",
       "      <td>Airlines</td>\n",
       "      <td>Online</td>\n",
       "      <td>Value Plan</td>\n",
       "      <td>No</td>\n",
       "      <td>66</td>\n",
       "      <td>UNITED STATES</td>\n",
       "      <td>-121.0</td>\n",
       "      <td>42.35</td>\n",
       "      <td>F</td>\n",
       "      <td>44</td>\n",
       "    </tr>\n",
       "    <tr>\n",
       "      <th>6</th>\n",
       "      <td>CWT</td>\n",
       "      <td>Travel Agency</td>\n",
       "      <td>Online</td>\n",
       "      <td>Rental Vehicle Excess Insurance</td>\n",
       "      <td>No</td>\n",
       "      <td>47</td>\n",
       "      <td>UNITED STATES</td>\n",
       "      <td>-39.6</td>\n",
       "      <td>23.76</td>\n",
       "      <td>NaN</td>\n",
       "      <td>32</td>\n",
       "    </tr>\n",
       "    <tr>\n",
       "      <th>7</th>\n",
       "      <td>CWT</td>\n",
       "      <td>Travel Agency</td>\n",
       "      <td>Online</td>\n",
       "      <td>Rental Vehicle Excess Insurance</td>\n",
       "      <td>No</td>\n",
       "      <td>63</td>\n",
       "      <td>AUSTRALIA</td>\n",
       "      <td>-108.9</td>\n",
       "      <td>65.34</td>\n",
       "      <td>NaN</td>\n",
       "      <td>29</td>\n",
       "    </tr>\n",
       "    <tr>\n",
       "      <th>8</th>\n",
       "      <td>CWT</td>\n",
       "      <td>Travel Agency</td>\n",
       "      <td>Online</td>\n",
       "      <td>Rental Vehicle Excess Insurance</td>\n",
       "      <td>No</td>\n",
       "      <td>57</td>\n",
       "      <td>THAILAND</td>\n",
       "      <td>-19.8</td>\n",
       "      <td>11.88</td>\n",
       "      <td>NaN</td>\n",
       "      <td>44</td>\n",
       "    </tr>\n",
       "    <tr>\n",
       "      <th>9</th>\n",
       "      <td>CWT</td>\n",
       "      <td>Travel Agency</td>\n",
       "      <td>Online</td>\n",
       "      <td>Rental Vehicle Excess Insurance</td>\n",
       "      <td>No</td>\n",
       "      <td>186</td>\n",
       "      <td>AUSTRALIA</td>\n",
       "      <td>-99.0</td>\n",
       "      <td>59.40</td>\n",
       "      <td>NaN</td>\n",
       "      <td>37</td>\n",
       "    </tr>\n",
       "    <tr>\n",
       "      <th>10</th>\n",
       "      <td>JZI</td>\n",
       "      <td>Airlines</td>\n",
       "      <td>Online</td>\n",
       "      <td>Basic Plan</td>\n",
       "      <td>No</td>\n",
       "      <td>33</td>\n",
       "      <td>KOREA, DEMOCRATIC PEOPLE'S REPUBLIC OF</td>\n",
       "      <td>-26.0</td>\n",
       "      <td>9.10</td>\n",
       "      <td>NaN</td>\n",
       "      <td>118</td>\n",
       "    </tr>\n",
       "    <tr>\n",
       "      <th>11</th>\n",
       "      <td>JZI</td>\n",
       "      <td>Airlines</td>\n",
       "      <td>Online</td>\n",
       "      <td>Basic Plan</td>\n",
       "      <td>No</td>\n",
       "      <td>1</td>\n",
       "      <td>MALAYSIA</td>\n",
       "      <td>-18.0</td>\n",
       "      <td>6.30</td>\n",
       "      <td>M</td>\n",
       "      <td>47</td>\n",
       "    </tr>\n",
       "    <tr>\n",
       "      <th>12</th>\n",
       "      <td>KML</td>\n",
       "      <td>Travel Agency</td>\n",
       "      <td>Online</td>\n",
       "      <td>Premier Plan</td>\n",
       "      <td>No</td>\n",
       "      <td>53</td>\n",
       "      <td>NORWAY</td>\n",
       "      <td>-130.0</td>\n",
       "      <td>49.40</td>\n",
       "      <td>F</td>\n",
       "      <td>48</td>\n",
       "    </tr>\n",
       "    <tr>\n",
       "      <th>13</th>\n",
       "      <td>CWT</td>\n",
       "      <td>Travel Agency</td>\n",
       "      <td>Online</td>\n",
       "      <td>Rental Vehicle Excess Insurance</td>\n",
       "      <td>No</td>\n",
       "      <td>5</td>\n",
       "      <td>MALAYSIA</td>\n",
       "      <td>-39.6</td>\n",
       "      <td>23.76</td>\n",
       "      <td>NaN</td>\n",
       "      <td>64</td>\n",
       "    </tr>\n",
       "    <tr>\n",
       "      <th>14</th>\n",
       "      <td>EPX</td>\n",
       "      <td>Travel Agency</td>\n",
       "      <td>Online</td>\n",
       "      <td>2 way Comprehensive Plan</td>\n",
       "      <td>No</td>\n",
       "      <td>39</td>\n",
       "      <td>VIET NAM</td>\n",
       "      <td>-25.0</td>\n",
       "      <td>0.00</td>\n",
       "      <td>NaN</td>\n",
       "      <td>36</td>\n",
       "    </tr>\n",
       "  </tbody>\n",
       "</table>\n",
       "</div>"
      ],
      "text/plain": [
       "   Agency    Agency Type Distribution Channel  \\\n",
       "0     CBH  Travel Agency              Offline   \n",
       "1     CBH  Travel Agency              Offline   \n",
       "2     CWT  Travel Agency               Online   \n",
       "3     CWT  Travel Agency               Online   \n",
       "4     CWT  Travel Agency               Online   \n",
       "5     JZI       Airlines               Online   \n",
       "6     CWT  Travel Agency               Online   \n",
       "7     CWT  Travel Agency               Online   \n",
       "8     CWT  Travel Agency               Online   \n",
       "9     CWT  Travel Agency               Online   \n",
       "10    JZI       Airlines               Online   \n",
       "11    JZI       Airlines               Online   \n",
       "12    KML  Travel Agency               Online   \n",
       "13    CWT  Travel Agency               Online   \n",
       "14    EPX  Travel Agency               Online   \n",
       "\n",
       "                       Product Name Claim  Duration  \\\n",
       "0                Comprehensive Plan    No       186   \n",
       "1                Comprehensive Plan    No       186   \n",
       "2   Rental Vehicle Excess Insurance    No        65   \n",
       "3   Rental Vehicle Excess Insurance    No        60   \n",
       "4   Rental Vehicle Excess Insurance    No        79   \n",
       "5                        Value Plan    No        66   \n",
       "6   Rental Vehicle Excess Insurance    No        47   \n",
       "7   Rental Vehicle Excess Insurance    No        63   \n",
       "8   Rental Vehicle Excess Insurance    No        57   \n",
       "9   Rental Vehicle Excess Insurance    No       186   \n",
       "10                       Basic Plan    No        33   \n",
       "11                       Basic Plan    No         1   \n",
       "12                     Premier Plan    No        53   \n",
       "13  Rental Vehicle Excess Insurance    No         5   \n",
       "14         2 way Comprehensive Plan    No        39   \n",
       "\n",
       "                               Destination  Net Sales  Commision (in value)  \\\n",
       "0                                 MALAYSIA      -29.0                  9.57   \n",
       "1                                 MALAYSIA      -29.0                  9.57   \n",
       "2                                AUSTRALIA      -49.5                 29.70   \n",
       "3                                AUSTRALIA      -39.6                 23.76   \n",
       "4                                    ITALY      -19.8                 11.88   \n",
       "5                            UNITED STATES     -121.0                 42.35   \n",
       "6                            UNITED STATES      -39.6                 23.76   \n",
       "7                                AUSTRALIA     -108.9                 65.34   \n",
       "8                                 THAILAND      -19.8                 11.88   \n",
       "9                                AUSTRALIA      -99.0                 59.40   \n",
       "10  KOREA, DEMOCRATIC PEOPLE'S REPUBLIC OF      -26.0                  9.10   \n",
       "11                                MALAYSIA      -18.0                  6.30   \n",
       "12                                  NORWAY     -130.0                 49.40   \n",
       "13                                MALAYSIA      -39.6                 23.76   \n",
       "14                                VIET NAM      -25.0                  0.00   \n",
       "\n",
       "   Gender  Age  \n",
       "0       F   81  \n",
       "1       F   71  \n",
       "2     NaN   32  \n",
       "3     NaN   32  \n",
       "4     NaN   41  \n",
       "5       F   44  \n",
       "6     NaN   32  \n",
       "7     NaN   29  \n",
       "8     NaN   44  \n",
       "9     NaN   37  \n",
       "10    NaN  118  \n",
       "11      M   47  \n",
       "12      F   48  \n",
       "13    NaN   64  \n",
       "14    NaN   36  "
      ]
     },
     "execution_count": 2,
     "metadata": {},
     "output_type": "execute_result"
    }
   ],
   "source": [
    "data_raw = pd.read_csv('./data_travel_insurance.csv')\n",
    "data_raw.head(15)"
   ]
  },
  {
   "cell_type": "markdown",
   "id": "d0b741aa",
   "metadata": {},
   "source": [
    "##### Размер данных:"
   ]
  },
  {
   "cell_type": "code",
   "execution_count": 3,
   "id": "8a23de87",
   "metadata": {},
   "outputs": [
    {
     "name": "stdout",
     "output_type": "stream",
     "text": [
      "N = 63326 - количество значений\n",
      "d = 11 - признаков\n"
     ]
    }
   ],
   "source": [
    "N, d = data_raw.shape\n",
    "print(f\"N = {N} - количество значений\\nd = {d} - признаков\")"
   ]
  },
  {
   "cell_type": "markdown",
   "id": "cfe82714",
   "metadata": {},
   "source": [
    "## 2. Визуализациях данных и основные характеристики\n",
    "\n",
    "### Визуализация данных"
   ]
  },
  {
   "cell_type": "code",
   "execution_count": 4,
   "id": "720e0987",
   "metadata": {
    "scrolled": false
   },
   "outputs": [
    {
     "data": {
      "image/png": "[encoded data removed]",
      "text/plain": [
       "<Figure size 432x288 with 1 Axes>"
      ]
     },
     "metadata": {
      "needs_background": "light"
     },
     "output_type": "display_data"
    }
   ],
   "source": [
    "sns.histplot(data_raw['Duration'], bins=15)\n",
    "plt.grid()"
   ]
  },
  {
   "cell_type": "code",
   "execution_count": 6,
   "id": "c694e17c",
   "metadata": {},
   "outputs": [
    {
     "data": {
      "image/png": "[encoded data removed]",
      "text/plain": [
       "<Figure size 432x288 with 1 Axes>"
      ]
     },
     "metadata": {
      "needs_background": "light"
     },
     "output_type": "display_data"
    }
   ],
   "source": [
    "sns.histplot(data_raw['Age'], bins=15)\n",
    "plt.grid()"
   ]
  },
  {
   "cell_type": "markdown",
   "id": "bbd3e216",
   "metadata": {},
   "source": [
    "По предыдущим двум гистограммам видно, что продолжительность большинства путешествий составляет не более двух недель, а преобладающий возраст всех застрахованных людей - 35-40 лет\n",
    "\n",
    "Так же в гистограмме с возрастом видно, что некоторые значения принимают подозрительные величины. Посмотрим на эти величины внимательнее:"
   ]
  },
  {
   "cell_type": "code",
   "execution_count": 7,
   "id": "ca9b6276",
   "metadata": {},
   "outputs": [
    {
     "data": {
      "text/html": [
       "<div>\n",
       "<style scoped>\n",
       "    .dataframe tbody tr th:only-of-type {\n",
       "        vertical-align: middle;\n",
       "    }\n",
       "\n",
       "    .dataframe tbody tr th {\n",
       "        vertical-align: top;\n",
       "    }\n",
       "\n",
       "    .dataframe thead th {\n",
       "        text-align: right;\n",
       "    }\n",
       "</style>\n",
       "<table border=\"1\" class=\"dataframe\">\n",
       "  <thead>\n",
       "    <tr style=\"text-align: right;\">\n",
       "      <th></th>\n",
       "      <th>Agency</th>\n",
       "      <th>Agency Type</th>\n",
       "      <th>Distribution Channel</th>\n",
       "      <th>Product Name</th>\n",
       "      <th>Claim</th>\n",
       "      <th>Duration</th>\n",
       "      <th>Destination</th>\n",
       "      <th>Net Sales</th>\n",
       "      <th>Commision (in value)</th>\n",
       "      <th>Gender</th>\n",
       "      <th>Age</th>\n",
       "    </tr>\n",
       "  </thead>\n",
       "  <tbody>\n",
       "    <tr>\n",
       "      <th>10</th>\n",
       "      <td>JZI</td>\n",
       "      <td>Airlines</td>\n",
       "      <td>Online</td>\n",
       "      <td>Basic Plan</td>\n",
       "      <td>No</td>\n",
       "      <td>33</td>\n",
       "      <td>KOREA, DEMOCRATIC PEOPLE'S REPUBLIC OF</td>\n",
       "      <td>-26.0</td>\n",
       "      <td>9.10</td>\n",
       "      <td>NaN</td>\n",
       "      <td>118</td>\n",
       "    </tr>\n",
       "    <tr>\n",
       "      <th>105</th>\n",
       "      <td>JWT</td>\n",
       "      <td>Airlines</td>\n",
       "      <td>Online</td>\n",
       "      <td>Value Plan</td>\n",
       "      <td>No</td>\n",
       "      <td>11</td>\n",
       "      <td>INDIA</td>\n",
       "      <td>50.0</td>\n",
       "      <td>20.00</td>\n",
       "      <td>M</td>\n",
       "      <td>118</td>\n",
       "    </tr>\n",
       "    <tr>\n",
       "      <th>220</th>\n",
       "      <td>JWT</td>\n",
       "      <td>Airlines</td>\n",
       "      <td>Online</td>\n",
       "      <td>Value Plan</td>\n",
       "      <td>No</td>\n",
       "      <td>4</td>\n",
       "      <td>INDIA</td>\n",
       "      <td>62.0</td>\n",
       "      <td>24.80</td>\n",
       "      <td>F</td>\n",
       "      <td>118</td>\n",
       "    </tr>\n",
       "    <tr>\n",
       "      <th>367</th>\n",
       "      <td>JWT</td>\n",
       "      <td>Airlines</td>\n",
       "      <td>Online</td>\n",
       "      <td>Value Plan</td>\n",
       "      <td>No</td>\n",
       "      <td>16</td>\n",
       "      <td>INDIA</td>\n",
       "      <td>50.0</td>\n",
       "      <td>20.00</td>\n",
       "      <td>M</td>\n",
       "      <td>118</td>\n",
       "    </tr>\n",
       "    <tr>\n",
       "      <th>402</th>\n",
       "      <td>CCR</td>\n",
       "      <td>Travel Agency</td>\n",
       "      <td>Offline</td>\n",
       "      <td>Comprehensive Plan</td>\n",
       "      <td>No</td>\n",
       "      <td>5</td>\n",
       "      <td>MALAYSIA</td>\n",
       "      <td>29.0</td>\n",
       "      <td>9.57</td>\n",
       "      <td>M</td>\n",
       "      <td>118</td>\n",
       "    </tr>\n",
       "    <tr>\n",
       "      <th>...</th>\n",
       "      <td>...</td>\n",
       "      <td>...</td>\n",
       "      <td>...</td>\n",
       "      <td>...</td>\n",
       "      <td>...</td>\n",
       "      <td>...</td>\n",
       "      <td>...</td>\n",
       "      <td>...</td>\n",
       "      <td>...</td>\n",
       "      <td>...</td>\n",
       "      <td>...</td>\n",
       "    </tr>\n",
       "    <tr>\n",
       "      <th>62920</th>\n",
       "      <td>JWT</td>\n",
       "      <td>Airlines</td>\n",
       "      <td>Online</td>\n",
       "      <td>Value Plan</td>\n",
       "      <td>No</td>\n",
       "      <td>2</td>\n",
       "      <td>INDIA</td>\n",
       "      <td>31.0</td>\n",
       "      <td>12.40</td>\n",
       "      <td>M</td>\n",
       "      <td>118</td>\n",
       "    </tr>\n",
       "    <tr>\n",
       "      <th>62953</th>\n",
       "      <td>ART</td>\n",
       "      <td>Airlines</td>\n",
       "      <td>Online</td>\n",
       "      <td>Value Plan</td>\n",
       "      <td>No</td>\n",
       "      <td>14</td>\n",
       "      <td>FRANCE</td>\n",
       "      <td>59.0</td>\n",
       "      <td>20.65</td>\n",
       "      <td>M</td>\n",
       "      <td>118</td>\n",
       "    </tr>\n",
       "    <tr>\n",
       "      <th>63096</th>\n",
       "      <td>ART</td>\n",
       "      <td>Airlines</td>\n",
       "      <td>Online</td>\n",
       "      <td>Value Plan</td>\n",
       "      <td>No</td>\n",
       "      <td>42</td>\n",
       "      <td>HONG KONG</td>\n",
       "      <td>61.0</td>\n",
       "      <td>21.35</td>\n",
       "      <td>M</td>\n",
       "      <td>118</td>\n",
       "    </tr>\n",
       "    <tr>\n",
       "      <th>63182</th>\n",
       "      <td>JWT</td>\n",
       "      <td>Airlines</td>\n",
       "      <td>Online</td>\n",
       "      <td>Value Plan</td>\n",
       "      <td>No</td>\n",
       "      <td>21</td>\n",
       "      <td>INDIA</td>\n",
       "      <td>39.0</td>\n",
       "      <td>15.60</td>\n",
       "      <td>F</td>\n",
       "      <td>118</td>\n",
       "    </tr>\n",
       "    <tr>\n",
       "      <th>63183</th>\n",
       "      <td>JWT</td>\n",
       "      <td>Airlines</td>\n",
       "      <td>Online</td>\n",
       "      <td>Value Plan</td>\n",
       "      <td>No</td>\n",
       "      <td>49</td>\n",
       "      <td>INDIA</td>\n",
       "      <td>31.0</td>\n",
       "      <td>12.40</td>\n",
       "      <td>M</td>\n",
       "      <td>118</td>\n",
       "    </tr>\n",
       "  </tbody>\n",
       "</table>\n",
       "<p>984 rows × 11 columns</p>\n",
       "</div>"
      ],
      "text/plain": [
       "      Agency    Agency Type Distribution Channel        Product Name Claim  \\\n",
       "10       JZI       Airlines               Online          Basic Plan    No   \n",
       "105      JWT       Airlines               Online          Value Plan    No   \n",
       "220      JWT       Airlines               Online          Value Plan    No   \n",
       "367      JWT       Airlines               Online          Value Plan    No   \n",
       "402      CCR  Travel Agency              Offline  Comprehensive Plan    No   \n",
       "...      ...            ...                  ...                 ...   ...   \n",
       "62920    JWT       Airlines               Online          Value Plan    No   \n",
       "62953    ART       Airlines               Online          Value Plan    No   \n",
       "63096    ART       Airlines               Online          Value Plan    No   \n",
       "63182    JWT       Airlines               Online          Value Plan    No   \n",
       "63183    JWT       Airlines               Online          Value Plan    No   \n",
       "\n",
       "       Duration                             Destination  Net Sales  \\\n",
       "10           33  KOREA, DEMOCRATIC PEOPLE'S REPUBLIC OF      -26.0   \n",
       "105          11                                   INDIA       50.0   \n",
       "220           4                                   INDIA       62.0   \n",
       "367          16                                   INDIA       50.0   \n",
       "402           5                                MALAYSIA       29.0   \n",
       "...         ...                                     ...        ...   \n",
       "62920         2                                   INDIA       31.0   \n",
       "62953        14                                  FRANCE       59.0   \n",
       "63096        42                               HONG KONG       61.0   \n",
       "63182        21                                   INDIA       39.0   \n",
       "63183        49                                   INDIA       31.0   \n",
       "\n",
       "       Commision (in value) Gender  Age  \n",
       "10                     9.10    NaN  118  \n",
       "105                   20.00      M  118  \n",
       "220                   24.80      F  118  \n",
       "367                   20.00      M  118  \n",
       "402                    9.57      M  118  \n",
       "...                     ...    ...  ...  \n",
       "62920                 12.40      M  118  \n",
       "62953                 20.65      M  118  \n",
       "63096                 21.35      M  118  \n",
       "63182                 15.60      F  118  \n",
       "63183                 12.40      M  118  \n",
       "\n",
       "[984 rows x 11 columns]"
      ]
     },
     "execution_count": 7,
     "metadata": {},
     "output_type": "execute_result"
    }
   ],
   "source": [
    "data_raw[data_raw[\"Age\"] > 100]"
   ]
  },
  {
   "cell_type": "markdown",
   "id": "3ecfa545",
   "metadata": {},
   "source": [
    "Очевидно, что данные с результатом 118 - выбросы. Удалим выбросы из датасета"
   ]
  },
  {
   "cell_type": "code",
   "execution_count": 8,
   "id": "75695a23",
   "metadata": {},
   "outputs": [],
   "source": [
    "data_raw.loc[data_raw['Age'] > 100, 'Age'] = np.mean(data_raw[\"Age\"])\n",
    "rows_to_drop = data_raw[data_raw['Age'] > 100].index\n",
    "data_raw = data_raw.drop(rows_to_drop)"
   ]
  },
  {
   "cell_type": "markdown",
   "id": "ffd1c092",
   "metadata": {},
   "source": [
    "Посмотрим, как теперь выглядит гистограмма возраста:"
   ]
  },
  {
   "cell_type": "code",
   "execution_count": 10,
   "id": "06571638",
   "metadata": {
    "scrolled": true
   },
   "outputs": [
    {
     "data": {
      "image/png": "[encoded data removed]",
      "text/plain": [
       "<Figure size 432x288 with 1 Axes>"
      ]
     },
     "metadata": {
      "needs_background": "light"
     },
     "output_type": "display_data"
    }
   ],
   "source": [
    "sns.histplot(data_raw['Age'], bins=15)\n",
    "plt.grid()"
   ]
  },
  {
   "cell_type": "markdown",
   "id": "2d319b0e",
   "metadata": {},
   "source": [
    "По следующей гистограмме видно, что к страховым агенствам обращаются, как мужчины, так и женщины, без явного преимущества в чью-то сторону:"
   ]
  },
  {
   "cell_type": "code",
   "execution_count": 11,
   "id": "35ff2171",
   "metadata": {
    "scrolled": true
   },
   "outputs": [
    {
     "name": "stdout",
     "output_type": "stream",
     "text": [
      "{'F': 8872, 'M': 9347}\n"
     ]
    },
    {
     "data": {
      "image/png": "[encoded data removed]",
      "text/plain": [
       "<Figure size 432x288 with 1 Axes>"
      ]
     },
     "metadata": {
      "needs_background": "light"
     },
     "output_type": "display_data"
    }
   ],
   "source": [
    "people = {\"F\": 0, \"M\": 0}\n",
    "\n",
    "for i in range(len(data_raw)):\n",
    "    if data_raw['Gender'][i] == \"F\":\n",
    "        people[\"F\"] += 1\n",
    "    elif data_raw['Gender'][i] == \"M\":\n",
    "        people[\"M\"] += 1\n",
    "\n",
    "sns.histplot(people, bins=15)\n",
    "plt.grid()\n",
    "print(people)"
   ]
  },
  {
   "cell_type": "code",
   "execution_count": 12,
   "id": "440ae296",
   "metadata": {
    "scrolled": false
   },
   "outputs": [
    {
     "data": {
      "image/png": "[encoded data removed]",
      "text/plain": [
       "<Figure size 432x288 with 1 Axes>"
      ]
     },
     "metadata": {
      "needs_background": "light"
     },
     "output_type": "display_data"
    }
   ],
   "source": [
    "sns.histplot(data_raw['Net Sales'], bins=15)\n",
    "plt.grid()"
   ]
  },
  {
   "cell_type": "code",
   "execution_count": 13,
   "id": "25c2b55d",
   "metadata": {
    "scrolled": false
   },
   "outputs": [
    {
     "data": {
      "image/png": "[encoded data removed]",
      "text/plain": [
       "<Figure size 432x288 with 1 Axes>"
      ]
     },
     "metadata": {
      "needs_background": "light"
     },
     "output_type": "display_data"
    }
   ],
   "source": [
    "sns.histplot(data_raw['Commision (in value)'], bins=15)\n",
    "plt.grid()"
   ]
  },
  {
   "cell_type": "markdown",
   "id": "0882e67e",
   "metadata": {},
   "source": [
    "По последним двум гистограммам можно заметить, что прибыль после\n",
    "продаж полисов туристического страхования и комиссия туристического агенства похожи на скореллированные величины (за исключением отрициательных значений в гистограмме прибыли). Проверим это, построив матрицу корреляции:"
   ]
  },
  {
   "cell_type": "code",
   "execution_count": 15,
   "id": "9f4a39dc",
   "metadata": {
    "scrolled": false
   },
   "outputs": [
    {
     "data": {
      "image/png": "[encoded data removed]",
      "text/plain": [
       "<Figure size 432x288 with 2 Axes>"
      ]
     },
     "metadata": {
      "needs_background": "light"
     },
     "output_type": "display_data"
    }
   ],
   "source": [
    "sns.heatmap(data_raw.corr(), square=True)\n",
    "pass"
   ]
  },
  {
   "cell_type": "markdown",
   "id": "6e7d7dde",
   "metadata": {},
   "source": [
    "На следующем графике показано, встречаются ли заявленные полисы только в нескольких агентствах. Судя по графику, распределение равномерное."
   ]
  },
  {
   "cell_type": "code",
   "execution_count": 16,
   "id": "a8888d9c",
   "metadata": {
    "scrolled": true
   },
   "outputs": [
    {
     "data": {
      "image/png": "[encoded data removed]",
      "text/plain": [
       "<Figure size 720x360 with 1 Axes>"
      ]
     },
     "metadata": {
      "needs_background": "light"
     },
     "output_type": "display_data"
    }
   ],
   "source": [
    "g = sns.catplot(x=\"Agency\", y = \"Claim\", data=data_raw)\n",
    "g.fig.set_size_inches(10,5)"
   ]
  },
  {
   "cell_type": "markdown",
   "id": "e37f628d",
   "metadata": {},
   "source": [
    "## Основные характеристики"
   ]
  },
  {
   "cell_type": "code",
   "execution_count": 17,
   "id": "d1df5d70",
   "metadata": {
    "scrolled": true
   },
   "outputs": [
    {
     "data": {
      "text/html": [
       "<div>\n",
       "<style scoped>\n",
       "    .dataframe tbody tr th:only-of-type {\n",
       "        vertical-align: middle;\n",
       "    }\n",
       "\n",
       "    .dataframe tbody tr th {\n",
       "        vertical-align: top;\n",
       "    }\n",
       "\n",
       "    .dataframe thead th {\n",
       "        text-align: right;\n",
       "    }\n",
       "</style>\n",
       "<table border=\"1\" class=\"dataframe\">\n",
       "  <thead>\n",
       "    <tr style=\"text-align: right;\">\n",
       "      <th></th>\n",
       "      <th>Agency</th>\n",
       "      <th>Agency Type</th>\n",
       "      <th>Distribution Channel</th>\n",
       "      <th>Product Name</th>\n",
       "      <th>Claim</th>\n",
       "      <th>Destination</th>\n",
       "      <th>Gender</th>\n",
       "    </tr>\n",
       "  </thead>\n",
       "  <tbody>\n",
       "    <tr>\n",
       "      <th>count</th>\n",
       "      <td>63326</td>\n",
       "      <td>63326</td>\n",
       "      <td>63326</td>\n",
       "      <td>63326</td>\n",
       "      <td>63326</td>\n",
       "      <td>63326</td>\n",
       "      <td>18219</td>\n",
       "    </tr>\n",
       "    <tr>\n",
       "      <th>unique</th>\n",
       "      <td>16</td>\n",
       "      <td>2</td>\n",
       "      <td>2</td>\n",
       "      <td>26</td>\n",
       "      <td>2</td>\n",
       "      <td>149</td>\n",
       "      <td>2</td>\n",
       "    </tr>\n",
       "    <tr>\n",
       "      <th>top</th>\n",
       "      <td>EPX</td>\n",
       "      <td>Travel Agency</td>\n",
       "      <td>Online</td>\n",
       "      <td>Cancellation Plan</td>\n",
       "      <td>No</td>\n",
       "      <td>SINGAPORE</td>\n",
       "      <td>M</td>\n",
       "    </tr>\n",
       "    <tr>\n",
       "      <th>freq</th>\n",
       "      <td>35119</td>\n",
       "      <td>45869</td>\n",
       "      <td>62219</td>\n",
       "      <td>18630</td>\n",
       "      <td>62399</td>\n",
       "      <td>13255</td>\n",
       "      <td>9347</td>\n",
       "    </tr>\n",
       "  </tbody>\n",
       "</table>\n",
       "</div>"
      ],
      "text/plain": [
       "       Agency    Agency Type Distribution Channel       Product Name  Claim  \\\n",
       "count   63326          63326                63326              63326  63326   \n",
       "unique     16              2                    2                 26      2   \n",
       "top       EPX  Travel Agency               Online  Cancellation Plan     No   \n",
       "freq    35119          45869                62219              18630  62399   \n",
       "\n",
       "       Destination Gender  \n",
       "count        63326  18219  \n",
       "unique         149      2  \n",
       "top      SINGAPORE      M  \n",
       "freq         13255   9347  "
      ]
     },
     "execution_count": 17,
     "metadata": {},
     "output_type": "execute_result"
    }
   ],
   "source": [
    "data_raw[['Agency', 'Agency Type', 'Distribution Channel', 'Product Name', 'Claim', 'Destination', 'Gender']].describe()"
   ]
  },
  {
   "cell_type": "code",
   "execution_count": 19,
   "id": "f0fa62ce",
   "metadata": {},
   "outputs": [
    {
     "data": {
      "text/html": [
       "<div>\n",
       "<style scoped>\n",
       "    .dataframe tbody tr th:only-of-type {\n",
       "        vertical-align: middle;\n",
       "    }\n",
       "\n",
       "    .dataframe tbody tr th {\n",
       "        vertical-align: top;\n",
       "    }\n",
       "\n",
       "    .dataframe thead th {\n",
       "        text-align: right;\n",
       "    }\n",
       "</style>\n",
       "<table border=\"1\" class=\"dataframe\">\n",
       "  <thead>\n",
       "    <tr style=\"text-align: right;\">\n",
       "      <th></th>\n",
       "      <th>Duration</th>\n",
       "      <th>Net Sales</th>\n",
       "      <th>Commision (in value)</th>\n",
       "      <th>Age</th>\n",
       "    </tr>\n",
       "  </thead>\n",
       "  <tbody>\n",
       "    <tr>\n",
       "      <th>count</th>\n",
       "      <td>63326.000000</td>\n",
       "      <td>63326.000000</td>\n",
       "      <td>63326.000000</td>\n",
       "      <td>63326.000000</td>\n",
       "    </tr>\n",
       "    <tr>\n",
       "      <th>mean</th>\n",
       "      <td>49.317074</td>\n",
       "      <td>40.702018</td>\n",
       "      <td>9.809992</td>\n",
       "      <td>38.757500</td>\n",
       "    </tr>\n",
       "    <tr>\n",
       "      <th>std</th>\n",
       "      <td>101.791566</td>\n",
       "      <td>48.845637</td>\n",
       "      <td>19.804388</td>\n",
       "      <td>10.019733</td>\n",
       "    </tr>\n",
       "    <tr>\n",
       "      <th>min</th>\n",
       "      <td>-2.000000</td>\n",
       "      <td>-389.000000</td>\n",
       "      <td>0.000000</td>\n",
       "      <td>0.000000</td>\n",
       "    </tr>\n",
       "    <tr>\n",
       "      <th>25%</th>\n",
       "      <td>9.000000</td>\n",
       "      <td>18.000000</td>\n",
       "      <td>0.000000</td>\n",
       "      <td>35.000000</td>\n",
       "    </tr>\n",
       "    <tr>\n",
       "      <th>50%</th>\n",
       "      <td>22.000000</td>\n",
       "      <td>26.530000</td>\n",
       "      <td>0.000000</td>\n",
       "      <td>36.000000</td>\n",
       "    </tr>\n",
       "    <tr>\n",
       "      <th>75%</th>\n",
       "      <td>53.000000</td>\n",
       "      <td>48.000000</td>\n",
       "      <td>11.550000</td>\n",
       "      <td>42.000000</td>\n",
       "    </tr>\n",
       "    <tr>\n",
       "      <th>max</th>\n",
       "      <td>4881.000000</td>\n",
       "      <td>810.000000</td>\n",
       "      <td>283.500000</td>\n",
       "      <td>88.000000</td>\n",
       "    </tr>\n",
       "  </tbody>\n",
       "</table>\n",
       "</div>"
      ],
      "text/plain": [
       "           Duration     Net Sales  Commision (in value)           Age\n",
       "count  63326.000000  63326.000000          63326.000000  63326.000000\n",
       "mean      49.317074     40.702018              9.809992     38.757500\n",
       "std      101.791566     48.845637             19.804388     10.019733\n",
       "min       -2.000000   -389.000000              0.000000      0.000000\n",
       "25%        9.000000     18.000000              0.000000     35.000000\n",
       "50%       22.000000     26.530000              0.000000     36.000000\n",
       "75%       53.000000     48.000000             11.550000     42.000000\n",
       "max     4881.000000    810.000000            283.500000     88.000000"
      ]
     },
     "execution_count": 19,
     "metadata": {},
     "output_type": "execute_result"
    }
   ],
   "source": [
    "data_raw[['Duration', 'Net Sales', 'Commision (in value)', 'Age']].describe()"
   ]
  },
  {
   "cell_type": "markdown",
   "id": "fee94a94",
   "metadata": {},
   "source": [
    "После подсчёта основных характеристик видно, что в исходном датасете некоторые значения продолжительности путешествий (Duration) - отрицательные величины. Преобразуем такие записи к средним величинам\n",
    "\n",
    "(Прибыль тоже имеет иногда отрицательные значения, но это нормально)"
   ]
  },
  {
   "cell_type": "code",
   "execution_count": 22,
   "id": "4651f3ad",
   "metadata": {},
   "outputs": [],
   "source": [
    "data_raw.loc[data_raw[\"Duration\"] < 100, \"Duration\"] = np.mean(data_raw[\"Duration\"])"
   ]
  },
  {
   "cell_type": "markdown",
   "id": "24797235",
   "metadata": {},
   "source": [
    "# 3. Пропущенные значения"
   ]
  },
  {
   "cell_type": "code",
   "execution_count": 24,
   "id": "25698707",
   "metadata": {},
   "outputs": [
    {
     "data": {
      "text/plain": [
       "Agency                      0\n",
       "Agency Type                 0\n",
       "Distribution Channel        0\n",
       "Product Name                0\n",
       "Claim                       0\n",
       "Duration                    0\n",
       "Destination                 0\n",
       "Net Sales                   0\n",
       "Commision (in value)        0\n",
       "Gender                  45107\n",
       "Age                         0\n",
       "dtype: int64"
      ]
     },
     "execution_count": 24,
     "metadata": {},
     "output_type": "execute_result"
    }
   ],
   "source": [
    "data_raw.isna().sum()"
   ]
  },
  {
   "cell_type": "markdown",
   "id": "ca409496",
   "metadata": {},
   "source": [
    "В графе Пол (Gender) присутствуют пропущенные значения. Заполним их значением NA"
   ]
  },
  {
   "cell_type": "code",
   "execution_count": 26,
   "id": "502114f1",
   "metadata": {},
   "outputs": [
    {
     "data": {
      "text/plain": [
       "Agency                  0\n",
       "Agency Type             0\n",
       "Distribution Channel    0\n",
       "Product Name            0\n",
       "Claim                   0\n",
       "Duration                0\n",
       "Destination             0\n",
       "Net Sales               0\n",
       "Commision (in value)    0\n",
       "Gender                  0\n",
       "Age                     0\n",
       "dtype: int64"
      ]
     },
     "execution_count": 26,
     "metadata": {},
     "output_type": "execute_result"
    }
   ],
   "source": [
    "data_raw['Gender'].fillna('NA', inplace = True)\n",
    "data_raw.isna().sum()"
   ]
  }
 ],
 "metadata": {
  "kernelspec": {
   "display_name": "Python 3",
   "language": "python",
   "name": "python3"
  },
  "language_info": {
   "codemirror_mode": {
    "name": "ipython",
    "version": 3
   },
   "file_extension": ".py",
   "mimetype": "text/x-python",
   "name": "python",
   "nbconvert_exporter": "python",
   "pygments_lexer": "ipython3",
   "version": "3.8.8"
  }
 },
 "nbformat": 4,
 "nbformat_minor": 5
}
